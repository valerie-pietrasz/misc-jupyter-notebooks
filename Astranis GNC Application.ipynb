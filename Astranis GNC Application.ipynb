{
 "cells": [
  {
   "cell_type": "markdown",
   "metadata": {},
   "source": [
    "# Write sum code\n",
    "\n",
    "Write a function, in the programming language of your choice, which finds contiguous regions (or \"islands\") in a matrix where all values in the island are greater than a threshold (but not necessarily the same). \n",
    "\n",
    "The function should take a threshold, a minimum island size, and an arbitrarily sized matrix as inputs.   \n",
    "The function should output a matrix (same size as the input matrix) of booleans. \n",
    "\n",
    "Do not wrap around matrix edges. Corner neighbors are not sufficient for island continuity. \n",
    "\n",
    "For example, if the the inputs are:  \n",
    "- threshold = 5  \n",
    "- min island size = 3  \n",
    "- matrix = [\n",
    "        4, 4, 4, 2, 2;  \n",
    "        4, 2, 2, 2, 2;  \n",
    "        2, 2, 8, 7, 2;  \n",
    "        2, 8, 8, 8, 2;  \n",
    "        8, 2, 2, 2, 8  \n",
    "    ].  \n",
    "\n",
    "Then the output would be  \n",
    "- islands = [\n",
    "        0, 0, 0, 0, 0;  \n",
    "        0, 0, 0, 0, 0;  \n",
    "        0, 0, 1, 1, 0;  \n",
    "        0, 1, 1, 1, 0;  \n",
    "        0, 0, 0, 0, 0\n",
    "    ]."
   ]
  },
  {
   "cell_type": "code",
   "execution_count": 85,
   "metadata": {},
   "outputs": [],
   "source": [
    "import numpy as np"
   ]
  },
  {
   "cell_type": "code",
   "execution_count": 86,
   "metadata": {},
   "outputs": [],
   "source": [
    "def find_islands(threshold, min_island_size, matrix):\n",
    "    '''Finds contiguous regions (or \"islands\") in a matrix where all values in the island are greater than a threshold (but not necessarily the same). \n",
    "    This function does not wrap around matrix edges, and corner neighbors are not sufficient for island continuity.\n",
    "    Assumes args are reasonably typed.\n",
    "\n",
    "    Args:\n",
    "        threshold: the number which all values in an island must be greater than\n",
    "        min_island_size: the number of values greater than the threshold which must be present in a contiguous region to be considered an island\n",
    "        matrix: an arbitrarily sized matrix\n",
    "        \n",
    "    Returns:\n",
    "        islands: a boolean matrix (same size as the input matrix) that represents the \"islands\" found\n",
    "    '''\n",
    "    \n",
    "    if type(matrix) is not np.array:\n",
    "        matrix = np.asarray(matrix)\n",
    "    \n",
    "    indices_of_elements_greater_than_threshold = list(zip(*np.where(matrix > threshold)))\n",
    "    \n",
    "    def find_index_neighbors(index):\n",
    "        '''Given an index and a list of indices, finds all neighboring indices. The index may be in the list. \n",
    "\n",
    "        Args:\n",
    "            index: tuple of ints that represents the index of an element in a matrix: (row, column) \n",
    "            [defined above, not passed] indices_of_elements_greater_than_threshold: \n",
    "                list of indices that match description of an index above: [(i_0, j_0, ..., (i_n, j_n)]\n",
    "        Returns:\n",
    "            index_neighbors: a list of index neighbors, also represented by a tuple of ints\n",
    "        '''\n",
    "        row, column = index\n",
    "\n",
    "        index_neighbors = [] \n",
    "\n",
    "        for i, j in indices_of_elements_greater_than_threshold:\n",
    "            # How far away are the two indices?\n",
    "            index_difference = (abs(row-i), abs(column-j))\n",
    "\n",
    "            # To be neighbors, one of the row or column must be the same (index difference of 0) \n",
    "            # and one must be +/-1 (index difference of 1). It doesn't matter which, so we can check those together.\n",
    "            if sum(index_difference) == 1:\n",
    "                index_neighbors += [(i, j)]\n",
    "  \n",
    "        return index_neighbors\n",
    "    \n",
    "    def find_contiguous_region(current_index, contiguous_region_indices):\n",
    "        '''Explores indices to find all indices in a region contiguous with current_index. \n",
    "        \n",
    "        Args:\n",
    "            current_index: the index (as described in find_index_neighbors) from which to find all contiguous indices\n",
    "            contiguous_region_indices [used for recursive calls -- should be an empty list in a non-recursive call]: \n",
    "                a list of the indices that have already been found to be contiguous with current_index\n",
    "        Returns:\n",
    "            contiguous_region_indices: a list of all indices that are contiguous with current_index\n",
    "        '''\n",
    "        \n",
    "        # Add current index\n",
    "        contiguous_region_indices += [current_index]\n",
    "        \n",
    "        # Add unexplored index_neighbors, and recursively, their unexplored index_neighbors \n",
    "        # Base case occurs when no new index_neighbors are found \n",
    "        for index_neighbor in find_index_neighbors(current_index):\n",
    "            if index_neighbor not in contiguous_region_indices:\n",
    "\n",
    "                new_contiguous_indices = [\n",
    "                    new_contiguous_index \n",
    "                    for new_contiguous_index in find_contiguous_region(index_neighbor, contiguous_region_indices) \n",
    "                    if new_contiguous_index not in contiguous_region_indices\n",
    "                ]\n",
    "                contiguous_region_indices += new_contiguous_indices\n",
    "         \n",
    "        return contiguous_region_indices\n",
    "    \n",
    "    # The key will be the element index, and the value will be whether the element is within an island\n",
    "    # If the key does not exist, the index has not been \"explored\" yet\n",
    "    is_index_in_an_island = {} \n",
    "    \n",
    "    for index in indices_of_elements_greater_than_threshold:\n",
    "        if index not in is_index_in_an_island:\n",
    "            potential_island_indices = find_contiguous_region(index, [])\n",
    "            \n",
    "            # Add potential_island if it is sufficiently large\n",
    "            for island_index in potential_island_indices:\n",
    "                is_index_in_an_island[island_index] = len(potential_island_indices) >= min_island_size\n",
    "    \n",
    "    # Chose the most readable option from https://stackoverflow.com/questions/56660387/fastest-way-to-convert-a-list-of-indices-to-2d-numpy-array-of-ones\n",
    "    island_indices = [index for index, is_island in is_index_in_an_island.items() if is_island]\n",
    "    \n",
    "    islands = np.zeros(matrix.shape, int)\n",
    "    for i in island_indices:\n",
    "        islands[i] = 1\n",
    " \n",
    "    return islands\n",
    "           "
   ]
  },
  {
   "cell_type": "code",
   "execution_count": 87,
   "metadata": {
    "pixiedust": {
     "displayParams": {}
    },
    "scrolled": false
   },
   "outputs": [
    {
     "data": {
      "text/plain": [
       "array([[0, 0, 0, 0, 0],\n",
       "       [0, 0, 0, 0, 0],\n",
       "       [0, 0, 1, 1, 0],\n",
       "       [0, 1, 1, 1, 0],\n",
       "       [0, 0, 0, 0, 0]])"
      ]
     },
     "execution_count": 87,
     "metadata": {},
     "output_type": "execute_result"
    }
   ],
   "source": [
    "A=np.array([\n",
    "    [4, 4, 4, 2, 2],  \n",
    "    [4, 2, 2, 2, 2],  \n",
    "    [2, 2, 8, 7, 2],  \n",
    "    [2, 8, 8, 8, 2],  \n",
    "    [8, 2, 2, 2, 8],  \n",
    "])\n",
    "\n",
    "find_islands(threshold=5, min_island_size=3, matrix=A)"
   ]
  },
  {
   "cell_type": "markdown",
   "metadata": {},
   "source": [
    "## Things I learned during this exercise:\n",
    "A python default argument is defined when the function is defined, and not every time the function is called: https://stackoverflow.com/questions/16549768/lifetime-of-default-function-arguments-in-python"
   ]
  },
  {
   "cell_type": "markdown",
   "metadata": {},
   "source": [
    "## What sensors and actuators would you expect a modern, small, geostationary, telecommunication satellite to have?"
   ]
  },
  {
   "cell_type": "markdown",
   "metadata": {},
   "source": [
    "## For GNC\n",
    "\n",
    "### Sensors\n",
    "- GNSS\n",
    "- Star trackers\n",
    "- Earth sensor, sun sensor\n",
    "- Gyroscopes\n",
    "- Accelerometers (linear & angular)\n",
    "- Pressure/drag sensors (not as familiar with these)\n",
    "- Is a clock a sensor? I would say so.\n",
    "\n",
    "### Actuators\n",
    "- Reaction wheels\n",
    "- Electric propulsion thrusters (and ideally, no chemical prop thrusters because they're heavy)\n",
    "- Solar Array Drive Assemblies (SADA)\n",
    "\n",
    "## Other sensors/systems\n",
    "- RF -- receivers/antennae \n",
    "- Thermal -- thermistors, thermocouples (basically everywhere!)\n",
    "- Power -- solar array input, susbsystem output, battery charge\n",
    "- Pressure -- for propulsion management"
   ]
  },
  {
   "cell_type": "code",
   "execution_count": null,
   "metadata": {},
   "outputs": [],
   "source": []
  }
 ],
 "metadata": {
  "kernelspec": {
   "display_name": "Python 3",
   "language": "python",
   "name": "python3"
  },
  "language_info": {
   "codemirror_mode": {
    "name": "ipython",
    "version": 3
   },
   "file_extension": ".py",
   "mimetype": "text/x-python",
   "name": "python",
   "nbconvert_exporter": "python",
   "pygments_lexer": "ipython3",
   "version": "3.6.4"
  }
 },
 "nbformat": 4,
 "nbformat_minor": 2
}
